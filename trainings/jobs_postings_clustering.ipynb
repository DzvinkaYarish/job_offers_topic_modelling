{
 "cells": [
  {
   "cell_type": "markdown",
   "metadata": {},
   "source": [
    "# Job descriptions clustering"
   ]
  },
  {
   "cell_type": "code",
   "execution_count": 2,
   "metadata": {
    "collapsed": false
   },
   "outputs": [],
   "source": [
    "import pandas as pd\n",
    "import numpy as np\n",
    "from sklearn.model_selection import train_test_split\n",
    "from nltk.tokenize import sent_tokenize, word_tokenize\n",
    "from nltk.stem import WordNetLemmatizer\n",
    "from sklearn.feature_extraction.text import CountVectorizer,  TfidfVectorizer\n",
    "from sklearn.decomposition import LatentDirichletAllocation\n",
    "from sklearn.cluster import KMeans\n",
    "import mglearn"
   ]
  },
  {
   "cell_type": "code",
   "execution_count": 5,
   "metadata": {
    "collapsed": true
   },
   "outputs": [],
   "source": [
    "lemmatizer = WordNetLemmatizer()"
   ]
  },
  {
   "cell_type": "code",
   "execution_count": 6,
   "metadata": {
    "collapsed": true
   },
   "outputs": [],
   "source": [
    "data = pd.read_csv('../data/data job posts.csv')"
   ]
  },
  {
   "cell_type": "code",
   "execution_count": 23,
   "metadata": {
    "collapsed": false
   },
   "outputs": [
    {
     "data": {
      "text/html": [
       "<div>\n",
       "<style>\n",
       "    .dataframe thead tr:only-child th {\n",
       "        text-align: right;\n",
       "    }\n",
       "\n",
       "    .dataframe thead th {\n",
       "        text-align: left;\n",
       "    }\n",
       "\n",
       "    .dataframe tbody tr th {\n",
       "        vertical-align: top;\n",
       "    }\n",
       "</style>\n",
       "<table border=\"1\" class=\"dataframe\">\n",
       "  <thead>\n",
       "    <tr style=\"text-align: right;\">\n",
       "      <th></th>\n",
       "      <th>jobpost</th>\n",
       "      <th>date</th>\n",
       "      <th>Title</th>\n",
       "      <th>Company</th>\n",
       "      <th>AnnouncementCode</th>\n",
       "      <th>Term</th>\n",
       "      <th>Eligibility</th>\n",
       "      <th>Audience</th>\n",
       "      <th>StartDate</th>\n",
       "      <th>Duration</th>\n",
       "      <th>...</th>\n",
       "      <th>Salary</th>\n",
       "      <th>ApplicationP</th>\n",
       "      <th>OpeningDate</th>\n",
       "      <th>Deadline</th>\n",
       "      <th>Notes</th>\n",
       "      <th>AboutC</th>\n",
       "      <th>Attach</th>\n",
       "      <th>Year</th>\n",
       "      <th>Month</th>\n",
       "      <th>IT</th>\n",
       "    </tr>\n",
       "  </thead>\n",
       "  <tbody>\n",
       "    <tr>\n",
       "      <th>0</th>\n",
       "      <td>AMERIA Investment Consulting Company\\r\\nJOB TI...</td>\n",
       "      <td>Jan 5, 2004</td>\n",
       "      <td>Chief Financial Officer</td>\n",
       "      <td>AMERIA Investment Consulting Company</td>\n",
       "      <td>NaN</td>\n",
       "      <td>NaN</td>\n",
       "      <td>NaN</td>\n",
       "      <td>NaN</td>\n",
       "      <td>NaN</td>\n",
       "      <td>NaN</td>\n",
       "      <td>...</td>\n",
       "      <td>NaN</td>\n",
       "      <td>To apply for this position, please submit a\\r\\...</td>\n",
       "      <td>NaN</td>\n",
       "      <td>26 January 2004</td>\n",
       "      <td>NaN</td>\n",
       "      <td>NaN</td>\n",
       "      <td>NaN</td>\n",
       "      <td>2004</td>\n",
       "      <td>1</td>\n",
       "      <td>False</td>\n",
       "    </tr>\n",
       "    <tr>\n",
       "      <th>1</th>\n",
       "      <td>International Research &amp; Exchanges Board (IREX...</td>\n",
       "      <td>Jan 7, 2004</td>\n",
       "      <td>Full-time Community Connections Intern (paid i...</td>\n",
       "      <td>International Research &amp; Exchanges Board (IREX)</td>\n",
       "      <td>NaN</td>\n",
       "      <td>NaN</td>\n",
       "      <td>NaN</td>\n",
       "      <td>NaN</td>\n",
       "      <td>NaN</td>\n",
       "      <td>3 months</td>\n",
       "      <td>...</td>\n",
       "      <td>NaN</td>\n",
       "      <td>Please submit a cover letter and resume to:\\r\\...</td>\n",
       "      <td>NaN</td>\n",
       "      <td>12 January 2004</td>\n",
       "      <td>NaN</td>\n",
       "      <td>The International Research &amp; Exchanges Board (...</td>\n",
       "      <td>NaN</td>\n",
       "      <td>2004</td>\n",
       "      <td>1</td>\n",
       "      <td>False</td>\n",
       "    </tr>\n",
       "  </tbody>\n",
       "</table>\n",
       "<p>2 rows × 24 columns</p>\n",
       "</div>"
      ],
      "text/plain": [
       "                                             jobpost         date  \\\n",
       "0  AMERIA Investment Consulting Company\\r\\nJOB TI...  Jan 5, 2004   \n",
       "1  International Research & Exchanges Board (IREX...  Jan 7, 2004   \n",
       "\n",
       "                                               Title  \\\n",
       "0                            Chief Financial Officer   \n",
       "1  Full-time Community Connections Intern (paid i...   \n",
       "\n",
       "                                           Company AnnouncementCode Term  \\\n",
       "0             AMERIA Investment Consulting Company              NaN  NaN   \n",
       "1  International Research & Exchanges Board (IREX)              NaN  NaN   \n",
       "\n",
       "  Eligibility Audience StartDate  Duration  ...   Salary  \\\n",
       "0         NaN      NaN       NaN       NaN  ...      NaN   \n",
       "1         NaN      NaN       NaN  3 months  ...      NaN   \n",
       "\n",
       "                                        ApplicationP OpeningDate  \\\n",
       "0  To apply for this position, please submit a\\r\\...         NaN   \n",
       "1  Please submit a cover letter and resume to:\\r\\...         NaN   \n",
       "\n",
       "          Deadline Notes                                             AboutC  \\\n",
       "0  26 January 2004   NaN                                                NaN   \n",
       "1  12 January 2004   NaN  The International Research & Exchanges Board (...   \n",
       "\n",
       "  Attach  Year Month     IT  \n",
       "0    NaN  2004     1  False  \n",
       "1    NaN  2004     1  False  \n",
       "\n",
       "[2 rows x 24 columns]"
      ]
     },
     "execution_count": 23,
     "metadata": {},
     "output_type": "execute_result"
    }
   ],
   "source": [
    "data.head(2)"
   ]
  },
  {
   "cell_type": "code",
   "execution_count": 4,
   "metadata": {
    "collapsed": false
   },
   "outputs": [
    {
     "data": {
      "text/plain": [
       "False"
      ]
     },
     "execution_count": 4,
     "metadata": {},
     "output_type": "execute_result"
    }
   ],
   "source": [
    "data['jobpost'].isnull().any()"
   ]
  },
  {
   "cell_type": "code",
   "execution_count": 7,
   "metadata": {
    "collapsed": false
   },
   "outputs": [],
   "source": [
    "data = data.drop_duplicates('jobpost')"
   ]
  },
  {
   "cell_type": "code",
   "execution_count": 8,
   "metadata": {
    "collapsed": false
   },
   "outputs": [
    {
     "data": {
      "text/plain": [
       "False"
      ]
     },
     "execution_count": 8,
     "metadata": {},
     "output_type": "execute_result"
    }
   ],
   "source": [
    "data.duplicated('jobpost').any()"
   ]
  },
  {
   "cell_type": "markdown",
   "metadata": {},
   "source": [
    "## Vectorization"
   ]
  },
  {
   "cell_type": "code",
   "execution_count": 9,
   "metadata": {
    "collapsed": false
   },
   "outputs": [],
   "source": [
    "def tokenizer(text):\n",
    "    return [lemmatizer.lemmatize(w.lower()) for sent in sent_tokenize(text) for w in word_tokenize(sent) if w.isalpha() and len(w) > 2]"
   ]
  },
  {
   "cell_type": "code",
   "execution_count": 16,
   "metadata": {
    "collapsed": false
   },
   "outputs": [],
   "source": [
    "cv = CountVectorizer(stop_words='english', min_df=2, max_df=0.5, max_features=20000, tokenizer=lambda text:tokenizer(text))\n",
    "X = cv.fit_transform(data['jobpost'])"
   ]
  },
  {
   "cell_type": "code",
   "execution_count": 10,
   "metadata": {
    "collapsed": false
   },
   "outputs": [],
   "source": [
    "tfidf = TfidfVectorizer(stop_words='english', max_df=0.5, max_features=20000, tokenizer=lambda text:tokenizer(text))\n",
    "X_tf = tfidf.fit_transform(data['jobpost'])"
   ]
  },
  {
   "cell_type": "markdown",
   "metadata": {},
   "source": [
    "## LDA"
   ]
  },
  {
   "cell_type": "code",
   "execution_count": 17,
   "metadata": {
    "collapsed": false
   },
   "outputs": [],
   "source": [
    "lda = LatentDirichletAllocation(learning_method=\"online\", max_iter=30, n_components=30)\n",
    "topics = lda.fit_transform(X)"
   ]
  },
  {
   "cell_type": "code",
   "execution_count": 18,
   "metadata": {
    "collapsed": false
   },
   "outputs": [
    {
     "name": "stdout",
     "output_type": "stream",
     "text": [
      "topic: 11 \n",
      "job title: Chief Financial Officer\n",
      "\n",
      "topic: 5 \n",
      "job title: Full-time Community Connections Intern (paid internship)\n",
      "\n",
      "topic: 0 \n",
      "job title: Country Coordinator\n",
      "\n",
      "topic: 20 \n",
      "job title: BCC Specialist\n",
      "\n",
      "topic: 18 \n",
      "job title: Software Developer\n",
      "\n",
      "topic: 13 \n",
      "job title: Saleswoman\n",
      "\n",
      "topic: 12 \n",
      "job title: Chief Accountant/ Finance Assistant\n",
      "\n",
      "topic: 5 \n",
      "job title: Non-paid part or full time Programmatic Intern\n",
      "\n",
      "topic: 10 \n",
      "job title: Assistant to Managing Director\n",
      "\n",
      "topic: 6 \n",
      "job title: Program Assistant (INL), FSN-8; FP-6*\n",
      "\n",
      "topic: 5 \n",
      "job title: Short-Term Travel Grants (STG) Program\n",
      "\n",
      "topic: 5 \n",
      "job title: Non-paid part or full time Administrative Intern\n",
      "\n",
      "topic: 11 \n",
      "job title: Chief of Party (COP)\n",
      "\n",
      "topic: 20 \n",
      "job title: Community Development, Capacity Building and Conflict\n",
      "\n",
      "topic: 11 \n",
      "job title: General Manager\n",
      "\n",
      "topic: 17 \n",
      "job title: Network Administrator\n",
      "\n",
      "topic: 13 \n",
      "job title: Utopian World Championship 2004\n",
      "\n",
      "topic: 20 \n",
      "job title: Country Economist (NOB)\n",
      "\n",
      "topic: 20 \n",
      "job title: Driver/ Logistics Assistant\n",
      "\n",
      "topic: 1 \n",
      "job title: Graphic Designer\n",
      "\n",
      "topic: 10 \n",
      "job title: Administrative Assistant\n",
      "\n",
      "topic: 12 \n",
      "job title: Lawyer\n",
      "\n",
      "topic: 26 \n",
      "job title: Marketing Advisor\n",
      "\n",
      "topic: 11 \n",
      "job title: Chief/ Supervisor of Programs Department\n",
      "\n",
      "topic: 23 \n",
      "job title: Journalism Trainer\n",
      "\n",
      "topic: 5 \n",
      "job title: Deputy Program Director\n",
      "\n",
      "topic: 5 \n",
      "job title: Student Forum: Student Conference and Debate Forum (April 17 -\n",
      "\n",
      "topic: 23 \n",
      "job title: Reporting Diversity Workshop for Journalists\n",
      "\n",
      "topic: 23 \n",
      "job title: Reporting Diversity Workshop for Journalists\n",
      "\n",
      "topic: 12 \n",
      "job title: Chief Accountant\n",
      "\n",
      "topic: 26 \n",
      "job title: Consultant (short-term)\n",
      "\n",
      "topic: 6 \n",
      "job title: Guard, FSN-2; FP-CC*\n",
      "\n",
      "topic: 20 \n",
      "job title: Training Officer\n",
      "\n",
      "topic: 6 \n",
      "job title: Chauffeur, FSN-3; FP-BB*\n",
      "\n",
      "topic: 19 \n",
      "job title: Demographic Analysis Workshop\n",
      "\n",
      "topic: 7 \n",
      "job title: Programmer\n",
      "\n",
      "topic: 18 \n",
      "job title: Tester\n",
      "\n",
      "topic: 10 \n",
      "job title: Receptionist\n",
      "\n",
      "topic: 19 \n",
      "job title: German Internships for Young Practicing Journalists from NIS\n",
      "\n",
      "topic: 10 \n",
      "job title: Volunteer/ Intern\n",
      "\n",
      "topic: 2 \n",
      "job title: Team Leader/ Chief of Party\n",
      "\n",
      "topic: 20 \n",
      "job title: Program Manager - Children's Programs\n",
      "\n"
     ]
    },
    {
     "ename": "KeyError",
     "evalue": "42",
     "output_type": "error",
     "traceback": [
      "\u001b[1;31m---------------------------------------------------------------------------\u001b[0m",
      "\u001b[1;31mKeyError\u001b[0m                                  Traceback (most recent call last)",
      "\u001b[1;32m<ipython-input-18-be6ceb98f859>\u001b[0m in \u001b[0;36m<module>\u001b[1;34m()\u001b[0m\n\u001b[0;32m      1\u001b[0m \u001b[1;32mfor\u001b[0m \u001b[0mi\u001b[0m\u001b[1;33m,\u001b[0m \u001b[0mtopic\u001b[0m \u001b[1;32min\u001b[0m \u001b[0menumerate\u001b[0m\u001b[1;33m(\u001b[0m\u001b[0mtopics\u001b[0m\u001b[1;33m[\u001b[0m\u001b[1;33m:\u001b[0m\u001b[1;36m50\u001b[0m\u001b[1;33m]\u001b[0m\u001b[1;33m)\u001b[0m\u001b[1;33m:\u001b[0m\u001b[1;33m\u001b[0m\u001b[0m\n\u001b[1;32m----> 2\u001b[1;33m     \u001b[0mprint\u001b[0m\u001b[1;33m(\u001b[0m\u001b[1;34m'topic: {} \\njob title: {}'\u001b[0m\u001b[1;33m.\u001b[0m\u001b[0mformat\u001b[0m\u001b[1;33m(\u001b[0m\u001b[0mnp\u001b[0m\u001b[1;33m.\u001b[0m\u001b[0margmax\u001b[0m\u001b[1;33m(\u001b[0m\u001b[0mtopic\u001b[0m\u001b[1;33m)\u001b[0m\u001b[1;33m,\u001b[0m \u001b[0mdata\u001b[0m\u001b[1;33m[\u001b[0m\u001b[1;34m'Title'\u001b[0m\u001b[1;33m]\u001b[0m\u001b[1;33m[\u001b[0m\u001b[0mi\u001b[0m\u001b[1;33m]\u001b[0m\u001b[1;33m)\u001b[0m\u001b[1;33m)\u001b[0m\u001b[1;33m\u001b[0m\u001b[0m\n\u001b[0m\u001b[0;32m      3\u001b[0m     \u001b[0mprint\u001b[0m\u001b[1;33m(\u001b[0m\u001b[1;33m)\u001b[0m\u001b[1;33m\u001b[0m\u001b[0m\n",
      "\u001b[1;32m/home/dzvinka/anaconda3/lib/python3.5/site-packages/pandas/core/series.py\u001b[0m in \u001b[0;36m__getitem__\u001b[1;34m(self, key)\u001b[0m\n\u001b[0;32m    599\u001b[0m         \u001b[0mkey\u001b[0m \u001b[1;33m=\u001b[0m \u001b[0mcom\u001b[0m\u001b[1;33m.\u001b[0m\u001b[0m_apply_if_callable\u001b[0m\u001b[1;33m(\u001b[0m\u001b[0mkey\u001b[0m\u001b[1;33m,\u001b[0m \u001b[0mself\u001b[0m\u001b[1;33m)\u001b[0m\u001b[1;33m\u001b[0m\u001b[0m\n\u001b[0;32m    600\u001b[0m         \u001b[1;32mtry\u001b[0m\u001b[1;33m:\u001b[0m\u001b[1;33m\u001b[0m\u001b[0m\n\u001b[1;32m--> 601\u001b[1;33m             \u001b[0mresult\u001b[0m \u001b[1;33m=\u001b[0m \u001b[0mself\u001b[0m\u001b[1;33m.\u001b[0m\u001b[0mindex\u001b[0m\u001b[1;33m.\u001b[0m\u001b[0mget_value\u001b[0m\u001b[1;33m(\u001b[0m\u001b[0mself\u001b[0m\u001b[1;33m,\u001b[0m \u001b[0mkey\u001b[0m\u001b[1;33m)\u001b[0m\u001b[1;33m\u001b[0m\u001b[0m\n\u001b[0m\u001b[0;32m    602\u001b[0m \u001b[1;33m\u001b[0m\u001b[0m\n\u001b[0;32m    603\u001b[0m             \u001b[1;32mif\u001b[0m \u001b[1;32mnot\u001b[0m \u001b[0mis_scalar\u001b[0m\u001b[1;33m(\u001b[0m\u001b[0mresult\u001b[0m\u001b[1;33m)\u001b[0m\u001b[1;33m:\u001b[0m\u001b[1;33m\u001b[0m\u001b[0m\n",
      "\u001b[1;32m/home/dzvinka/anaconda3/lib/python3.5/site-packages/pandas/core/indexes/base.py\u001b[0m in \u001b[0;36mget_value\u001b[1;34m(self, series, key)\u001b[0m\n\u001b[0;32m   2475\u001b[0m         \u001b[1;32mtry\u001b[0m\u001b[1;33m:\u001b[0m\u001b[1;33m\u001b[0m\u001b[0m\n\u001b[0;32m   2476\u001b[0m             return self._engine.get_value(s, k,\n\u001b[1;32m-> 2477\u001b[1;33m                                           tz=getattr(series.dtype, 'tz', None))\n\u001b[0m\u001b[0;32m   2478\u001b[0m         \u001b[1;32mexcept\u001b[0m \u001b[0mKeyError\u001b[0m \u001b[1;32mas\u001b[0m \u001b[0me1\u001b[0m\u001b[1;33m:\u001b[0m\u001b[1;33m\u001b[0m\u001b[0m\n\u001b[0;32m   2479\u001b[0m             \u001b[1;32mif\u001b[0m \u001b[0mlen\u001b[0m\u001b[1;33m(\u001b[0m\u001b[0mself\u001b[0m\u001b[1;33m)\u001b[0m \u001b[1;33m>\u001b[0m \u001b[1;36m0\u001b[0m \u001b[1;32mand\u001b[0m \u001b[0mself\u001b[0m\u001b[1;33m.\u001b[0m\u001b[0minferred_type\u001b[0m \u001b[1;32min\u001b[0m \u001b[1;33m[\u001b[0m\u001b[1;34m'integer'\u001b[0m\u001b[1;33m,\u001b[0m \u001b[1;34m'boolean'\u001b[0m\u001b[1;33m]\u001b[0m\u001b[1;33m:\u001b[0m\u001b[1;33m\u001b[0m\u001b[0m\n",
      "\u001b[1;32mpandas/_libs/index.pyx\u001b[0m in \u001b[0;36mpandas._libs.index.IndexEngine.get_value (pandas/_libs/index.c:4404)\u001b[1;34m()\u001b[0m\n",
      "\u001b[1;32mpandas/_libs/index.pyx\u001b[0m in \u001b[0;36mpandas._libs.index.IndexEngine.get_value (pandas/_libs/index.c:4087)\u001b[1;34m()\u001b[0m\n",
      "\u001b[1;32mpandas/_libs/index.pyx\u001b[0m in \u001b[0;36mpandas._libs.index.IndexEngine.get_loc (pandas/_libs/index.c:5126)\u001b[1;34m()\u001b[0m\n",
      "\u001b[1;32mpandas/_libs/hashtable_class_helper.pxi\u001b[0m in \u001b[0;36mpandas._libs.hashtable.Int64HashTable.get_item (pandas/_libs/hashtable.c:14031)\u001b[1;34m()\u001b[0m\n",
      "\u001b[1;32mpandas/_libs/hashtable_class_helper.pxi\u001b[0m in \u001b[0;36mpandas._libs.hashtable.Int64HashTable.get_item (pandas/_libs/hashtable.c:13975)\u001b[1;34m()\u001b[0m\n",
      "\u001b[1;31mKeyError\u001b[0m: 42"
     ]
    }
   ],
   "source": [
    "for i, topic in enumerate(topics[:50]):\n",
    "    print('main topic: {} \\njob title: {}'.format(np.argmax(topic), data['Title'][i]))\n",
    "    print()"
   ]
  },
  {
   "cell_type": "code",
   "execution_count": 47,
   "metadata": {
    "collapsed": false
   },
   "outputs": [
    {
     "name": "stdout",
     "output_type": "stream",
     "text": [
      "topic 0       topic 1       topic 2       topic 3       topic 4       \n",
      "--------      --------      --------      --------      --------      \n",
      "medical       office        recruitment   management    marketing     \n",
      "representativeadministrativefashion       ensure        market        \n",
      "pharmaceuticalassistant     fao           business      business      \n",
      "visit         document      official      process       development   \n",
      "doctor        maintain      curriculum    manage        develop       \n",
      "medicine      duty          contact       manager       product       \n",
      "office        provide       vitae         plan          strategy      \n",
      "healthcare    assist        distributor   develop       plan          \n",
      "university    perform       zeppelin      activity      research      \n",
      "interpersonal meeting       information   performance   new           \n",
      "information   staff         adviser       staff         activity      \n",
      "regular       correspondencearka          policy        advertising   \n",
      "le            relevant      arge          control       implement     \n",
      "pay           task          motor         operation     potential     \n",
      "liability     translation   agency        provide       conduct       \n",
      "promote       prepare       vallex        department    chain         \n",
      "general       support       current       planning      material      \n",
      "capable       written       simulation    resource      analysis      \n",
      "organizationalmake          sonics        report        organize      \n",
      "fluency       information   tanger        internal      value         \n",
      "\n",
      "\n",
      "topic 5       topic 6       topic 7       topic 8       topic 9       \n",
      "--------      --------      --------      --------      --------      \n",
      "child         mobile        credit        orange        procurement   \n",
      "community     european      data          tumo          custom        \n",
      "development   europe        card          embedded      supplier      \n",
      "world         million       analysis      exam          piu           \n",
      "vision        question      higher        club          logistics     \n",
      "ensure        german        education     calculate     forest        \n",
      "health        game          risk          pharmacy      prepare       \n",
      "program       reference     specialist    air           international \n",
      "adp           offer         copy          heating       mining        \n",
      "support       world         program       surname       supply        \n",
      "staff         tool          economic      registered    purchase      \n",
      "implementationtechnical     io            hospital      import        \n",
      "quality       team          report        teach         giz           \n",
      "family        stress        statistic     azatutyan     order         \n",
      "activity      visit         monitoring    creative      inventory     \n",
      "team          regarding     statistical   webb          transportation\n",
      "local         support       case          fontaine      bid           \n",
      "provide       hrm           survey        higher        purchasing    \n",
      "protection    french        document      gas           management    \n",
      "marz          gmbh          analyze       residential   process       \n",
      "\n",
      "\n",
      "topic 10      topic 11      topic 12      topic 13      topic 14      \n",
      "--------      --------      --------      --------      --------      \n",
      "customer      course        amd           student       open          \n",
      "sale          level         welcome       education     apply         \n",
      "service       business      remuneration  school        criterion     \n",
      "product       class         group         program       note          \n",
      "client        test          associate     university    eligibility   \n",
      "manager       group         acceptance    american      additional    \n",
      "llc           professional  ojsc          applicant     register      \n",
      "retail        student       client        study         registration  \n",
      "store         epam          tda           state         resume        \n",
      "responsible   final         troika        academic      individual    \n",
      "new           material      oxfam         international receive       \n",
      "corporate     according     incumbent     art           process       \n",
      "team          certificate   partner       institution   possible      \n",
      "presentation  ha            proficiency   united        house         \n",
      "creative      additional    attention     professional  interview     \n",
      "strong        office        discretion    curriculum    month         \n",
      "personality   intended      send          foundation    attach        \n",
      "brand         hour          starting      country       right         \n",
      "send          study         day           undergraduate employment    \n",
      "account       using         maac          higher        soon          \n",
      "\n",
      "\n",
      "topic 15      topic 16      topic 17      topic 18      topic 19      \n",
      "--------      --------      --------      --------      --------      \n",
      "software      android       form          loan          design        \n",
      "development   haypost       attachment    branch        web           \n",
      "team          corner        training      service       graphic       \n",
      "developer     attask        http          client        cjsc          \n",
      "test          prometey      following     office        javascript    \n",
      "testing       picsart       downloaded    lending       php           \n",
      "technical     forwarding    attached      cjsc          html          \n",
      "project       iom           field         finca         software      \n",
      "design        visiting      education     portfolio     designer      \n",
      "technology    git           graduate      gyumri        plus          \n",
      "develop       aecp          considered    activity      programming   \n",
      "product       macadamian    click         monitoring    synopsys      \n",
      "database      hrmanager     information   operation     cs            \n",
      "solution      canada        complete      committee     service       \n",
      "code          photocopy     specialist    kamurj        strong        \n",
      "requirement   thank         confirmation  potential     user          \n",
      "sql           utah          previously    mission       automation    \n",
      "java          hanrapetutyan asap          repayment     long          \n",
      "llc           exploration   peace         boomerang     eda           \n",
      "quality       sdk           volunteer     borrower      adobe         \n",
      "\n",
      "\n",
      "topic 20      topic 21      topic 22      topic 23      topic 24      \n",
      "--------      --------      --------      --------      --------      \n",
      "insurance     bank          project       qualified     project       \n",
      "holding       financial     program       llc           development   \n",
      "cascade       accounting    development   line          implementation\n",
      "procredit     finance       activity      field         international \n",
      "capital       report        international open          programme     \n",
      "bank          banking       support       eligibility   government    \n",
      "cjsc          tax           management    criterion     management    \n",
      "internship    prepare       training      long          national      \n",
      "intern        legislation   team          interview     sector        \n",
      "cafesjian     accountant    including     cjsc          service       \n",
      "service       audit         public        plus          consultant    \n",
      "indicate      internal      social        computer      policy        \n",
      "established   cash          staff         responsible   activity      \n",
      "development   account       local         send          support       \n",
      "group         control       report        asap          report        \n",
      "icjsc         cjsc          information   cv            technical     \n",
      "soft          related       foundation    applying      relevant      \n",
      "foundation    chief         assist        university    expert        \n",
      "contacted     payment       provide       team          area          \n",
      "looking       software      working       strong        country       \n",
      "\n",
      "\n",
      "topic 25      topic 26      topic 27      topic 28      topic 29      \n",
      "--------      --------      --------      --------      --------      \n",
      "health        legal         network       hotel         construction  \n",
      "care          office        service       driving       engineering   \n",
      "patient       law           technical     license       production    \n",
      "msf           medium        information   vehicle       equipment     \n",
      "drug          caucasus      support       education     engineer      \n",
      "treatment     osce          security      higher        technical     \n",
      "france        right         responsible   food          design        \n",
      "pharmacist    international telecommunicationdaily         shop          \n",
      "committee     human         cjsc          guest         electrical    \n",
      "ticket        public        computer      driver        quality       \n",
      "sans          national      database      send          tourism       \n",
      "logistic      regional      server        maintain      site          \n",
      "moh           programme     maintenance   service       material      \n",
      "prison        civil         administrationensure        tour          \n",
      "corresponding draft         equipment     agent         control       \n",
      "bridge        political     field         assigned      standard      \n",
      "archiving     information   administrator order         industrial    \n",
      "resistant     news          specialist    responsible   mechanical    \n",
      "tuberculosis  research      window        trade         industry      \n",
      "motivation    relation      hardware      stock         drawing       \n",
      "\n",
      "\n"
     ]
    }
   ],
   "source": [
    "sorting = np.argsort(lda.components_, axis=1)[:, ::-1]\n",
    "features = np.array(cv.get_feature_names())\n",
    "\n",
    "mglearn.tools.print_topics(topics=range(30), feature_names=features\n",
    "sorting=sorting, topics_per_chunk=5, n_words=20)"
   ]
  },
  {
   "cell_type": "markdown",
   "metadata": {},
   "source": [
    "## KMeans"
   ]
  },
  {
   "cell_type": "code",
   "execution_count": 11,
   "metadata": {
    "collapsed": false
   },
   "outputs": [
    {
     "data": {
      "text/plain": [
       "KMeans(algorithm='auto', copy_x=True, init='k-means++', max_iter=300,\n",
       "    n_clusters=15, n_init=10, n_jobs=1, precompute_distances='auto',\n",
       "    random_state=None, tol=0.0001, verbose=0)"
      ]
     },
     "execution_count": 11,
     "metadata": {},
     "output_type": "execute_result"
    }
   ],
   "source": [
    "km_10 = KMeans(n_clusters=15)\n",
    "km_10.fit(X_tf)"
   ]
  },
  {
   "cell_type": "code",
   "execution_count": 24,
   "metadata": {
    "collapsed": false
   },
   "outputs": [
    {
     "name": "stdout",
     "output_type": "stream",
     "text": [
      "Cluster 0:\n",
      " accounting accountant tax financial chief report prepare account finance legislation payment cash bank transaction perform software duty statement standard monthly control related reporting maintain llc submit payable office cjsc annual\n",
      "Cluster 1:\n",
      " office llc education responsible send service manager information administrative field higher computer management relevant international open assistant business cjsc design team customer university plus line provide resume email long training\n",
      "Cluster 2:\n",
      " network server database technical administrator security support data sql hardware window administration software service information equipment maintenance responsible infrastructure technology installation computer cjsc install management configuration maintain field operation backup\n",
      "Cluster 3:\n",
      " medical pharmaceutical representative doctor medicine pharmacist product pharmacy visit hospital drug photo organize servier presentation regular laboratoires pay clinic promote marketing krka le interpersonal office gmpharmaceuticals general sale advantage information\n",
      "Cluster 4:\n",
      " software developer development web design team java technology technical code llc php programming project sql senior javascript develop solution framework database plus product html highly strong server mysql participate member\n",
      "Cluster 5:\n",
      " project program development management community implementation child international training activity support programme national office staff local ensure government report public health policy provide sector country world including relevant technical plan\n",
      "Cluster 6:\n",
      " marketing market advertising product strategy sale develop research plan campaign business brand medium manager specialist development analysis implement activity customer promotional service new manage promotion llc material management conduct project\n",
      "Cluster 7:\n",
      " bank credit banking loan form cjsc branch customer financial attachment risk client procredit service lending business specialist management vtb analysis economics head finance ameriabank qualified office hsbc department operation field\n",
      "Cluster 8:\n",
      " orange million telecommunication operator customer telecom click france reference open proceed necessarily continent confirmation prevailing unless apply button previously comparable attach resume mobile section sale brand sure rate register receive\n",
      "Cluster 9:\n",
      " financial accounting audit finance internal control management report business analysis budget auditor reporting prepare bank project ensure risk process standard cost department cash international compliance cjsc responsible regulation policy activity\n",
      "Cluster 10:\n",
      " sale customer product service manager client store market marketing llc business responsible corporate new presentation management retail develop strong strategy provide team personality line brand field commercial ensure potential department\n",
      "Cluster 11:\n",
      " synopsys software design mentor graphic eda automation development engineer cjsc electronic provider algorithm programming service physical designing stl preferred specification layout comprehensive linux insurance test medical familiarity indicating senior military\n",
      "Cluster 12:\n",
      " test testing automated software engineer tool regression quality assurance case development manual automation defect script bug plan design perform team functional product environment web project report tracking llc methodology result\n",
      "Cluster 13:\n",
      " legal law lawyer court contract legislation draft relevant document provide advice administrative bank civil open visitor corporate recent answer represent right inquiry cjsc office oral appropriate written labor message act\n",
      "Cluster 14:\n",
      " course class final student level certificate test exam registration furnished business total material pas group consisting instructor fee study using intermediate want ngo additional membership attachment beginner fail contact warm\n"
     ]
    }
   ],
   "source": [
    "order_centroids = km_10.cluster_centers_.argsort()[:, ::-1]\n",
    "terms = tfidf.get_feature_names()\n",
    "for i in range(15):\n",
    "    print('Cluster {}:'.format(i))\n",
    "    for ind in order_centroids[i, :30]:\n",
    "        print(' {}'.format(terms[ind]), end='')\n",
    "    print()"
   ]
  }
 ],
 "metadata": {
  "kernelspec": {
   "display_name": "Python 3",
   "language": "python",
   "name": "python3"
  },
  "language_info": {
   "codemirror_mode": {
    "name": "ipython",
    "version": 3
   },
   "file_extension": ".py",
   "mimetype": "text/x-python",
   "name": "python",
   "nbconvert_exporter": "python",
   "pygments_lexer": "ipython3",
   "version": "3.5.3"
  }
 },
 "nbformat": 4,
 "nbformat_minor": 0
}
